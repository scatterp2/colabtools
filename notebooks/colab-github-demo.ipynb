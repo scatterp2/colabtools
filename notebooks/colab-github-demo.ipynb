<!DOCTYPE html>
<html>
<body>

<!-- <iframe id="myFrame" src="https://www.laravelcode.com/post/how-to-detect-click-inside-iframe-using-javascript" style="height:380px;width:100%"></iframe> -->

<p>Click the "Tryit" button to hide the first H1 element in the iframe (another document).</p>

<button onclick="runAll()">Try it</button>

<script>
function runAll() {
  const F9Event = {key: "F", code: "F", metaKey: true, keyCode: 70, ctrlKey: true};
  document.dispatchEvent(new KeyboardEvent("keydown", F9Event));
}

</script>

</body>
</html>
